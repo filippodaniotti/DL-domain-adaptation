{
    "cells": [
     {
      "cell_type": "code",
      "execution_count": null,
      "id": "b2c82097",
      "metadata": {},
      "outputs": [],
      "source": [
       "from os import makedirs\n",
       "from tqdm import tqdm\n",
       "from google.colab import drive"
      ]
     },
     {
      "cell_type": "code",
      "execution_count": null,
      "id": "ae629f6e",
      "metadata": {},
      "outputs": [],
      "source": [
       "drive.mount('/content/gdrive')"
      ]
     },
     {
      "cell_type": "code",
      "execution_count": null,
      "id": "4134f6cf",
      "metadata": {},
      "outputs": [],
      "source": [
       "!mkdir dataset\n",
       "!cp \"gdrive/My Drive/datasets/Adaptiope.zip\" dataset/\n",
       "!ls dataset"
      ]
     },
     {
      "cell_type": "code",
      "execution_count": null,
      "id": "12075827",
      "metadata": {},
      "outputs": [],
      "source": [
       "!unzip dataset/Adaptiope.zip"
      ]
     },
     {
      "cell_type": "code",
      "execution_count": null,
      "id": "c450da75",
      "metadata": {},
      "outputs": [],
      "source": [
       "!rm -rf adaptiope_small"
      ]
     },
     {
      "cell_type": "code",
      "execution_count": null,
      "id": "0a6cac67",
      "metadata": {},
      "outputs": [],
      "source": [
       "!mkdir adaptiope_small\n",
       "classes = listdir(\"Adaptiope/product_images\")\n",
       "classes = [\"backpack\", \"bookcase\", \"car jack\", \"comb\", \"crown\", \"file cabinet\", \"flat iron\", \"game controller\", \"glasses\",\n",
       "           \"helicopter\", \"ice skates\", \"letter tray\", \"monitor\", \"mug\", \"network switch\", \"over-ear headphones\", \"pen\",\n",
       "           \"purse\", \"stand mixer\", \"stroller\"]\n",
       "for d, td in zip([\"Adaptiope/product_images\", \"Adaptiope/real_life\"], [\"adaptiope_small/product_images\", \"adaptiope_small/real_life\"]):\n",
       "  makedirs(td)\n",
       "  for c in tqdm(classes):\n",
       "    c_path = join(d, c)\n",
       "    c_target = join(td, c)\n",
       "    copytree(c_path, c_target)"
      ]
     }
    ],
    "metadata": {
     "kernelspec": {
      "display_name": "Python 3 (ipykernel)",
      "language": "python",
      "name": "python3"
     },
     "language_info": {
      "codemirror_mode": {
       "name": "ipython",
       "version": 3
      },
      "file_extension": ".py",
      "mimetype": "text/x-python",
      "name": "python",
      "nbconvert_exporter": "python",
      "pygments_lexer": "ipython3",
      "version": "3.9.9"
     }
    },
    "nbformat": 4,
    "nbformat_minor": 5
   }